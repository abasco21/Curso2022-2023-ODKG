{
 "cells": [
  {
   "cell_type": "code",
   "execution_count": null,
   "metadata": {},
   "outputs": [],
   "source": [
    "%load_ext autoreload\n",
    "%autoreload 2"
   ]
  },
  {
   "cell_type": "code",
   "execution_count": null,
   "metadata": {},
   "outputs": [],
   "source": [
    "import pandas as pd\n",
    "import pandas_profiling as pp\n",
    "\n",
    "from constants import CSV_DIR"
   ]
  },
  {
   "cell_type": "code",
   "execution_count": null,
   "metadata": {},
   "outputs": [],
   "source": [
    "datasets_names = ['200342-0-centros-dia']\n",
    "\n",
    "for name in datasets_names:\n",
    "    print(name)\n",
    "    path = CSV_DIR / f'{name}.csv'\n",
    "    df = pd.read_csv(path, sep=';', encoding='latin1')\n",
    "    prof = pp.ProfileReport(df)\n",
    "    prof.to_file(output_file=f'analysis-{name}.html')"
   ]
  }
 ],
 "metadata": {
  "kernelspec": {
   "display_name": "Python 3.7.11 ('criteria-do')",
   "language": "python",
   "name": "python3"
  },
  "language_info": {
   "codemirror_mode": {
    "name": "ipython",
    "version": 3
   },
   "file_extension": ".py",
   "mimetype": "text/x-python",
   "name": "python",
   "nbconvert_exporter": "python",
   "pygments_lexer": "ipython3",
   "version": "3.7.11"
  },
  "orig_nbformat": 4,
  "vscode": {
   "interpreter": {
    "hash": "220e8ea909c26f3bcbae5d502fa2d5802d590fd2b08fd0160955c163223a16b6"
   }
  }
 },
 "nbformat": 4,
 "nbformat_minor": 2
}
