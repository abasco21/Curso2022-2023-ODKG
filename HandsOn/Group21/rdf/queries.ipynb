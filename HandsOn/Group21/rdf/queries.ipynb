{
 "cells": [
  {
   "cell_type": "code",
   "execution_count": null,
   "metadata": {},
   "outputs": [],
   "source": [
    "from rdflib import Graph, Namespace, Literal\n",
    "from rdflib.namespace import RDF, RDFS, XSD\n",
    "g = Graph()\n",
    "# g.namespace_manager.bind('ns', Namespace(\"http://somewhere#\"), override=False)\n",
    "# g.namespace_manager.bind('vcard', Namespace(\"http://www.w3.org/2001/vcard-rdf/3.0#\"), override=False)\n",
    "g.parse('centros_dia.nt', format='nt')"
   ]
  },
  {
   "cell_type": "code",
   "execution_count": null,
   "metadata": {},
   "outputs": [],
   "source": [
    "from rdflib.plugins.sparql import prepareQuery\n",
    "\n",
    "q = prepareQuery('''\n",
    "        SELECT DISTINCT ?neighborhood\n",
    "        WHERE {\n",
    "            ?neighborhood <http://miciudadamiga.madrid/map/ontology#belongsToMadridNeighbourhood> ?neighbourhood_code\n",
    "        }\n",
    "    ''')\n",
    "\n",
    "# Visualize the results\n",
    "for r in g.query(q):\n",
    "    print(r)"
   ]
  },
  {
   "cell_type": "code",
   "execution_count": null,
   "metadata": {},
   "outputs": [],
   "source": [
    "q = prepareQuery('''\n",
    "        SELECT DISTINCT ?property\n",
    "        WHERE {\n",
    "            ?subject ?property ?object\n",
    "        }\n",
    "    ''')\n",
    "\n",
    "# Visualize the results\n",
    "for r in g.query(q):\n",
    "    print(r)"
   ]
  },
  {
   "cell_type": "code",
   "execution_count": null,
   "metadata": {},
   "outputs": [],
   "source": [
    "q = prepareQuery('''\n",
    "        SELECT ?subject\n",
    "        WHERE {\n",
    "            ?subject a <https://datos.madrid.es/egob/kos/entidadesYorganismos/CentrosAtencionSocialMayores/CentrosDiaMayores>\n",
    "        }\n",
    "    ''')\n",
    "\n",
    "# Visualize the results\n",
    "for r in g.query(q):\n",
    "    print(r)"
   ]
  },
  {
   "cell_type": "code",
   "execution_count": null,
   "metadata": {},
   "outputs": [],
   "source": [
    "q = prepareQuery('''\n",
    "        SELECT ?district (COUNT(DISTINCT ?center) AS ?center_count)\n",
    "        WHERE {\n",
    "            ?center <http://purl.org/ctic/infraestructuras/localizacion#distrito> ?district.\n",
    "            ?center a <https://datos.madrid.es/egob/kos/entidadesYorganismos/CentrosAtencionSocialMayores/CentrosDiaMayores>\n",
    "            FILTER(datatype(?district) = xsd:string)\n",
    "        }\n",
    "        GROUP BY ?district\n",
    "        ORDER BY DESC(?center_count)\n",
    "    ''')\n",
    "\n",
    "# Visualize the results\n",
    "for r in g.query(q):\n",
    "    print(r)"
   ]
  },
  {
   "cell_type": "code",
   "execution_count": null,
   "metadata": {},
   "outputs": [],
   "source": [
    "q = prepareQuery('''\n",
    "        SELECT ?transport_access\n",
    "        WHERE {{\n",
    "            <http://miciudadamiga.madrid/map/resource/Jos%C3%A9_Villareal> <http://miciudadamiga.madrid/map/ontology#metroAccess> ?transport_access\n",
    "        } UNION {\n",
    "            <http://miciudadamiga.madrid/map/resource/Jos%C3%A9_Villareal> <http://miciudadamiga.madrid/map/ontology#busAccess> ?transport_access\n",
    "        }}\n",
    "    ''')\n",
    "\n",
    "# Visualize the results\n",
    "for r in g.query(q):\n",
    "    print(r)"
   ]
  }
 ],
 "metadata": {
  "kernelspec": {
   "display_name": "Python 3.9.6 64-bit",
   "language": "python",
   "name": "python3"
  },
  "language_info": {
   "codemirror_mode": {
    "name": "ipython",
    "version": 3
   },
   "file_extension": ".py",
   "mimetype": "text/x-python",
   "name": "python",
   "nbconvert_exporter": "python",
   "pygments_lexer": "ipython3",
   "version": "3.9.6"
  },
  "orig_nbformat": 4,
  "vscode": {
   "interpreter": {
    "hash": "2291b52653c1de4367e804254b7ce1af241d7f9c27ed8d139c780a66f6745294"
   }
  }
 },
 "nbformat": 4,
 "nbformat_minor": 2
}
