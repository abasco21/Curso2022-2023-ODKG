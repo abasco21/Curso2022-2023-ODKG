{
 "cells": [
  {
   "cell_type": "code",
   "execution_count": null,
   "metadata": {},
   "outputs": [],
   "source": [
    "from rdflib import Graph\n",
    "from rdflib.plugins.sparql import prepareQuery"
   ]
  },
  {
   "cell_type": "markdown",
   "metadata": {},
   "source": [
    "## Queries for preprocess data"
   ]
  },
  {
   "cell_type": "code",
   "execution_count": null,
   "metadata": {},
   "outputs": [],
   "source": [
    "g = Graph()\n",
    "g.parse('200342-0-centros-dia.ttl', format='turtle')"
   ]
  },
  {
   "cell_type": "code",
   "execution_count": null,
   "metadata": {},
   "outputs": [],
   "source": [
    "# Get all properties used in the graph\n",
    "q = prepareQuery('''\n",
    "        SELECT DISTINCT ?property\n",
    "        WHERE {\n",
    "            ?subject ?property ?object\n",
    "        }\n",
    "    ''')\n",
    "\n",
    "# Visualize the results\n",
    "for r in g.query(q):\n",
    "    print(r)"
   ]
  },
  {
   "cell_type": "code",
   "execution_count": null,
   "metadata": {},
   "outputs": [],
   "source": [
    "# Get all Day Centers for the Elderly\n",
    "q = prepareQuery('''\n",
    "        SELECT ?name ?subject\n",
    "        WHERE {\n",
    "            ?subject a <http://miciudadamiga.madrid/map/ontology#DayCenter>.\n",
    "            ?subject <http://schema.org/name> ?name\n",
    "        }\n",
    "    ''')\n",
    "\n",
    "# Visualize the results\n",
    "for r in g.query(q):\n",
    "    print(r)"
   ]
  },
  {
   "cell_type": "code",
   "execution_count": null,
   "metadata": {},
   "outputs": [],
   "source": [
    "# Get how many Day Center for the Elderly there are in each district\n",
    "q = prepareQuery('''\n",
    "        SELECT ?district_name (COUNT(DISTINCT ?center) AS ?center_count)\n",
    "        WHERE {\n",
    "            ?center <http://miciudadamiga.madrid/map/ontology#belongsToMadridDistrict> ?district.\n",
    "            ?center a <http://miciudadamiga.madrid/map/ontology#DayCenter>.\n",
    "            ?district <http://miciudadamiga.madrid/map/ontology#hasName> ?district_name\n",
    "        }\n",
    "        GROUP BY ?district\n",
    "        ORDER BY DESC(?center_count)\n",
    "    ''')\n",
    "\n",
    "# Visualize the results\n",
    "for r in g.query(q):\n",
    "    print(r)"
   ]
  },
  {
   "cell_type": "code",
   "execution_count": null,
   "metadata": {},
   "outputs": [],
   "source": [
    "# Get all the public transportation access to the Day Center for the Elderly \"José Villareal\"\n",
    "q = prepareQuery('''\n",
    "        SELECT ?transport_access\n",
    "        WHERE {{\n",
    "            ?center <http://schema.org/name> \"José Villareal\".\n",
    "            ?center <http://miciudadamiga.madrid/map/ontology#hasMetroAccess> ?transport_access_uri.\n",
    "            ?transport_access_uri <http://miciudadamiga.madrid/map/ontology#hasName> ?transport_access\n",
    "        } UNION {\n",
    "            ?center <http://schema.org/name> \"José Villareal\".\n",
    "            ?center <http://miciudadamiga.madrid/map/ontology#accessByBusLines> ?transport_access\n",
    "        }}\n",
    "    ''')\n",
    "\n",
    "# Visualize the results\n",
    "for r in g.query(q):\n",
    "    print(r)"
   ]
  },
  {
   "cell_type": "markdown",
   "metadata": {},
   "source": [
    "## Queries for linked data"
   ]
  },
  {
   "cell_type": "code",
   "execution_count": null,
   "metadata": {},
   "outputs": [],
   "source": [
    "g = Graph()\n",
    "g.parse('200342-0-centros-dia-with-links.ttl', format='turtle')"
   ]
  },
  {
   "cell_type": "code",
   "execution_count": null,
   "metadata": {},
   "outputs": [],
   "source": [
    "# Get links in Wikidata for MadridDistrict\n",
    "q = prepareQuery('''\n",
    "        SELECT ?name ?wikidata_uri\n",
    "        WHERE {\n",
    "            ?district a <http://miciudadamiga.madrid/map/ontology#MadridDistrict>.\n",
    "            ?district <http://www.w3.org/2002/07/owl#sameAs> ?wikidata_uri.\n",
    "            ?district <http://miciudadamiga.madrid/map/ontology#hasName> ?name\n",
    "        }\n",
    "    ''')\n",
    "\n",
    "# Visualize the results\n",
    "for r in g.query(q):\n",
    "    print(r)"
   ]
  },
  {
   "cell_type": "code",
   "execution_count": null,
   "metadata": {},
   "outputs": [],
   "source": [
    "# Get links in Wikidata for MadridNeighborhood\n",
    "q = prepareQuery('''\n",
    "        SELECT ?name ?wikidata_uri\n",
    "        WHERE {\n",
    "            ?neighborhood a <http://miciudadamiga.madrid/map/ontology#MadridNeighborhood>.\n",
    "            ?neighborhood <http://www.w3.org/2002/07/owl#sameAs> ?wikidata_uri.\n",
    "            ?neighborhood <http://miciudadamiga.madrid/map/ontology#hasName> ?name\n",
    "        }\n",
    "    ''')\n",
    "\n",
    "# Visualize the results\n",
    "for r in g.query(q):\n",
    "    print(r)"
   ]
  },
  {
   "cell_type": "code",
   "execution_count": null,
   "metadata": {},
   "outputs": [],
   "source": [
    "# Get links in Wikidata for SubwayStop\n",
    "q = prepareQuery('''\n",
    "        SELECT ?name ?wikidata_uri\n",
    "        WHERE {\n",
    "            ?subwayStop a <http://miciudadamiga.madrid/map/ontology#SubwayStop>.\n",
    "            ?subwayStop <http://www.w3.org/2002/07/owl#sameAs> ?wikidata_uri.\n",
    "            ?subwayStop <http://miciudadamiga.madrid/map/ontology#hasName> ?name\n",
    "        }\n",
    "    ''')\n",
    "\n",
    "# Visualize the results\n",
    "for r in g.query(q):\n",
    "    print(r)"
   ]
  },
  {
   "cell_type": "code",
   "execution_count": null,
   "metadata": {},
   "outputs": [],
   "source": [
    "# Get coordinates from Wikidata for SubwayStop\n",
    "q = prepareQuery('''\n",
    "        SELECT ?name ?coordinates\n",
    "        WHERE {\n",
    "            ?subwayStop a <http://miciudadamiga.madrid/map/ontology#SubwayStop>.\n",
    "            ?subwayStop <http://www.w3.org/2002/07/owl#sameAs> ?wikidata_uri.\n",
    "            ?subwayStop <http://miciudadamiga.madrid/map/ontology#hasName> ?name.\n",
    "            ?wikidata_uri <http://www.wikidata.org/prop/direct/P625> ?coordinates\n",
    "        }\n",
    "    ''')\n",
    "\n",
    "# Visualize the results\n",
    "for r in g.query(q):\n",
    "    print(r)"
   ]
  }
 ],
 "metadata": {
  "kernelspec": {
   "display_name": "Python 3.9.6 64-bit",
   "language": "python",
   "name": "python3"
  },
  "language_info": {
   "codemirror_mode": {
    "name": "ipython",
    "version": 3
   },
   "file_extension": ".py",
   "mimetype": "text/x-python",
   "name": "python",
   "nbconvert_exporter": "python",
   "pygments_lexer": "ipython3",
   "version": "3.9.6"
  },
  "orig_nbformat": 4,
  "vscode": {
   "interpreter": {
    "hash": "2291b52653c1de4367e804254b7ce1af241d7f9c27ed8d139c780a66f6745294"
   }
  }
 },
 "nbformat": 4,
 "nbformat_minor": 2
}
